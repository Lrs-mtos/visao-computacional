{
 "cells": [
  {
   "cell_type": "markdown",
   "metadata": {},
   "source": [
    "## Haar Cascade"
   ]
  },
  {
   "cell_type": "code",
   "execution_count": 1,
   "metadata": {},
   "outputs": [],
   "source": [
    "import cv2\n",
    "\n",
    "# Carregar o classificador Haar Cascade\n",
    "face_cascade = cv2.CascadeClassifier('haarcascade_frontalface_default.xml')\n",
    "\n",
    "# Ler a imagem\n",
    "img = cv2.imread('/home/larissa/Desktop/UFC/Visão/Labs/lab_face_recognition/imagem.jpeg')\n",
    "#Verificar se a imagem foi carregada\n",
    "if img is None:\n",
    "    print('Imagem não carregada')\n",
    "    exit(0)\n",
    "\n",
    "gray = cv2.cvtColor(img, cv2.COLOR_BGR2GRAY)\n",
    "\n",
    "# Detecção de faces\n",
    "faces = face_cascade.detectMultiScale(gray, scaleFactor=1.1, minNeighbors=5)\n",
    "\n",
    "# Desenhar bounding boxes\n",
    "for (x, y, w, h) in faces:\n",
    "    cv2.rectangle(img, (x, y), (x + w, y + h), (0, 255, 0), 2)\n",
    "\n",
    "# Salvar e exibir a imagem\n",
    "cv2.imwrite('haar_resultado.jpg', img)\n",
    "cv2.imshow('Haar Cascade', img)\n",
    "cv2.waitKey(0)\n",
    "cv2.destroyAllWindows()"
   ]
  },
  {
   "cell_type": "markdown",
   "metadata": {},
   "source": [
    "## Retina Face"
   ]
  },
  {
   "cell_type": "code",
   "execution_count": 7,
   "metadata": {},
   "outputs": [],
   "source": [
    "from retinaface import RetinaFace\n",
    "import cv2\n",
    "\n",
    "# Read the image\n",
    "img = cv2.imread('/home/larissa/Desktop/UFC/Visão/Labs/lab_face_recognition/imagem.jpeg')\n",
    "\n",
    "# Detect faces\n",
    "faces = RetinaFace.detect_faces('/home/larissa/Desktop/UFC/Visão/Labs/lab_face_recognition/imagem.jpeg')\n",
    "\n",
    "# Draw bounding boxes\n",
    "for key in faces.keys():\n",
    "    identity = faces[key]\n",
    "    facial_area = identity[\"facial_area\"]\n",
    "    cv2.rectangle(img, (facial_area[0], facial_area[1]), \n",
    "                  (facial_area[2], facial_area[3]), (0, 255, 0), 2)\n",
    "\n",
    "# Save and display the image\n",
    "cv2.imwrite('retinaface_resultado.jpg', img)\n",
    "cv2.imshow('RetinaFace', img)\n",
    "cv2.waitKey(0)\n",
    "cv2.destroyAllWindows()"
   ]
  },
  {
   "cell_type": "markdown",
   "metadata": {},
   "source": [
    "## YOLO"
   ]
  },
  {
   "cell_type": "code",
   "execution_count": 4,
   "metadata": {},
   "outputs": [
    {
     "name": "stderr",
     "output_type": "stream",
     "text": [
      "/home/larissa/.local/lib/python3.10/site-packages/ultralytics/nn/tasks.py:341: FutureWarning: You are using `torch.load` with `weights_only=False` (the current default value), which uses the default pickle module implicitly. It is possible to construct malicious pickle data which will execute arbitrary code during unpickling (See https://github.com/pytorch/pytorch/blob/main/SECURITY.md#untrusted-models for more details). In a future release, the default value for `weights_only` will be flipped to `True`. This limits the functions that could be executed during unpickling. Arbitrary objects will no longer be allowed to be loaded via this mode unless they are explicitly allowlisted by the user via `torch.serialization.add_safe_globals`. We recommend you start setting `weights_only=True` for any use case where you don't have full control of the loaded file. Please open an issue on GitHub for any issues related to this experimental feature.\n",
      "  ckpt = torch.load(attempt_download(weight), map_location='cpu')  # load\n",
      "Ultralytics YOLOv8.0.0 🚀 Python-3.10.12 torch-2.4.1+cu121 CPU\n",
      "Fusing layers... \n",
      "Model summary: 168 layers, 3005843 parameters, 0 gradients, 8.1 GFLOPs\n",
      "image 1/1 /home/larissa/Desktop/UFC/Visão/Labs/face_recognition/imagem.jpeg: 640x384 3 faces, 25.2ms\n",
      "Speed: 0.4ms pre-process, 25.2ms inference, 0.5ms postprocess per image at shape (1, 3, 640, 640)\n"
     ]
    },
    {
     "ename": "AttributeError",
     "evalue": "'Tensor' object has no attribute 'boxes'",
     "output_type": "error",
     "traceback": [
      "\u001b[0;31m---------------------------------------------------------------------------\u001b[0m",
      "\u001b[0;31mAttributeError\u001b[0m                            Traceback (most recent call last)",
      "Cell \u001b[0;32mIn[4], line 14\u001b[0m\n\u001b[1;32m     11\u001b[0m results \u001b[38;5;241m=\u001b[39m model(\u001b[38;5;124m'\u001b[39m\u001b[38;5;124m/home/larissa/Desktop/UFC/Visão/Labs/face_recognition/imagem.jpeg\u001b[39m\u001b[38;5;124m'\u001b[39m)\n\u001b[1;32m     12\u001b[0m \u001b[38;5;66;03m#The truth value of an array with more than one element is ambiguous. Use a.any() or a.all():\u001b[39;00m\n\u001b[0;32m---> 14\u001b[0m boxes \u001b[38;5;241m=\u001b[39m \u001b[43mresults\u001b[49m\u001b[43m[\u001b[49m\u001b[38;5;241;43m0\u001b[39;49m\u001b[43m]\u001b[49m\u001b[38;5;241;43m.\u001b[39;49m\u001b[43mboxes\u001b[49m\n\u001b[1;32m     16\u001b[0m img \u001b[38;5;241m=\u001b[39m cv2\u001b[38;5;241m.\u001b[39mimread(img_path)\n\u001b[1;32m     18\u001b[0m \u001b[38;5;28;01mfor\u001b[39;00m box \u001b[38;5;129;01min\u001b[39;00m boxes:\n",
      "\u001b[0;31mAttributeError\u001b[0m: 'Tensor' object has no attribute 'boxes'"
     ]
    }
   ],
   "source": [
    "from ultralytics import YOLO\n",
    "import cv2\n",
    "\n",
    "# Carregar o modelo YOLO pré-treinado para faces\n",
    "model = YOLO('yolov8n-face.pt')\n",
    "\n",
    "# Ler a imagem\n",
    "img_path = '/home/larissa/Desktop/UFC/Visão/Labs/face_recognition/imagem.jpeg'\n",
    "\n",
    "# Detecção de faces\n",
    "results = model('/home/larissa/Desktop/UFC/Visão/Labs/face_recognition/imagem.jpeg')\n",
    "#The truth value of an array with more than one element is ambiguous. Use a.any() or a.all():\n",
    "\n",
    "boxes = results[0].boxes\n",
    "\n",
    "img = cv2.imread(img_path)\n",
    "\n",
    "for box in boxes:\n",
    "    top_left_x = int(box.xyxy.tolist()[0][0])\n",
    "    top_left_y = int(box.xyxy.tolist()[0][1])\n",
    "    bottom_right_x = int(box.xyxy.tolist()[0][2])\n",
    "    bottom_right_y = int(box.xyxy.tolist()[0][3])\n",
    "\n",
    "    cv2.rectangle(img, (top_left_x, top_left_y), (bottom_right_x, bottom_right_y), (0, 255, 0), 2)\n",
    "\n",
    "    \n",
    "# Salvar e exibir a imagem\n",
    "cv2.imwrite('yolo_resultado.jpg', img)\n",
    "cv2.imshow('YOLO', img)\n",
    "cv2.waitKey(0)\n",
    "cv2.destroyAllWindows()\n"
   ]
  }
 ],
 "metadata": {
  "kernelspec": {
   "display_name": "Python 3",
   "language": "python",
   "name": "python3"
  },
  "language_info": {
   "codemirror_mode": {
    "name": "ipython",
    "version": 3
   },
   "file_extension": ".py",
   "mimetype": "text/x-python",
   "name": "python",
   "nbconvert_exporter": "python",
   "pygments_lexer": "ipython3",
   "version": "3.10.12"
  }
 },
 "nbformat": 4,
 "nbformat_minor": 2
}
