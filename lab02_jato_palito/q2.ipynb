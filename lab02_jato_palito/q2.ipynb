{
 "cells": [
  {
   "cell_type": "code",
   "execution_count": 1,
   "metadata": {},
   "outputs": [],
   "source": [
    "import sys\n",
    "import cv2\n",
    "import numpy as np\n",
    "import cv_utils as waitKey\n",
    "import matplotlib.pyplot as plt"
   ]
  },
  {
   "cell_type": "code",
   "execution_count": 2,
   "metadata": {},
   "outputs": [],
   "source": [
    "# Carrega as imagens\n",
    "circle_img = cv2.imread('./imagens/circle.jpg')\n",
    "line_img = cv2.imread('./imagens/line.jpg')"
   ]
  },
  {
   "cell_type": "code",
   "execution_count": 3,
   "metadata": {},
   "outputs": [],
   "source": [
    "width_circle  = circle_img.shape[1]\n",
    "height_circle = circle_img.shape[0]\n",
    "\n",
    "height_line = line_img.shape[0]\n",
    "width_line = line_img.shape[1]\n",
    "\n",
    "dim_final = (300, 300)\n"
   ]
  },
  {
   "cell_type": "code",
   "execution_count": 4,
   "metadata": {},
   "outputs": [],
   "source": [
    "# Escalas\n",
    "scale_head = np.float32([[1, 0, 0], [0, 1, 0]])  # Escala do círculo. Mantendo o tamanho original\n",
    "scale_body = np.float32([[1, 0, 0], [0, 1, 0]])  # Escala da linha. Mantendo o tamanho original\n",
    "scale_arm = np.float32([[0.75, 0, 0], [0, 1, 0]])  # Escala do braço. 75% do tamanho do tronco. Largura do braço foi mantida, o comprimento do braço contém 75% do comprimento do tronco\n",
    "scale_leg = np.float32([[1.5, 0, 0], [0, 1.5, 0]])  # Escala da perna. Dobro do tamanho dos braços"
   ]
  },
  {
   "cell_type": "code",
   "execution_count": 5,
   "metadata": {},
   "outputs": [],
   "source": [
    "# Cabeça\n",
    "head = cv2.bitwise_not(circle_img) # Invertendo as cores da imagem\n",
    "head = cv2.warpAffine(head, scale_head, dim_final)  # Não modifica a imagem, apenas redimensiona para 300x300\n",
    "M_translation_c = np.float32([[1, 0, 100], [0, 1, 10]]) # Posicionando a cabeça no centro da imagem, X=100, Y=10.\n",
    "# A imagem do circulo é um quadrado 100x100. Para centralizar a imagem dentro de um quadrado 300x300, é necessário deslocar 100 pixels para a direita.\n",
    "\n",
    "im_translated_c = cv2.warpAffine(head, M_translation_c, dim_final) # Deslocando a imagem para a posição correta\n",
    "head = cv2.bitwise_not(im_translated_c) # Invertendo as cores da imagem"
   ]
  },
  {
   "cell_type": "code",
   "execution_count": 13,
   "metadata": {},
   "outputs": [],
   "source": [
    "body = cv2.bitwise_not(line_img) # Invertendo as cores da imagem\n",
    "body = cv2.warpAffine(body, scale_body, dim_final) # Não modifica a imagem, apenas redimensiona para 300x300\n",
    "#rotate\n",
    "x_center_line = width_line/2\n",
    "y_center_line = height_line/2\n",
    "M_rotation_l = cv2.getRotationMatrix2D((x_center_line,y_center_line),90,1)\n",
    "body = cv2.warpAffine(body, M_rotation_l, dim_final) # Rotacionando a linha\n",
    "M_translation_l = np.float32([[1, 0, 100], [0, 1, 72]]) # Posicinando o tronco abaixo da cabeça, X=100, Y=72\n",
    "body = cv2.warpAffine(body, M_translation_l, dim_final) # Deslocando a imagem para a posição correta\n",
    "body = cv2.bitwise_not(body) # Invertendo as cores da imagem"
   ]
  },
  {
   "cell_type": "code",
   "execution_count": 11,
   "metadata": {},
   "outputs": [],
   "source": [
    "# Braço esquerdo - 75% do tamanho do tronco\n",
    "left_arm = cv2.bitwise_not(line_img) # Invertendo as cores da imagem\n",
    "left_arm = cv2.warpAffine(left_arm, scale_arm, dim_final) # Redimensionando a imagem para 300x300\n",
    "\n",
    "M_translation_arm_left = np.float32([[1, 0, 79], [0, 1, 65]]) # Posicinando o braço esquerdo abaixo da cabeça, X=79, Y=65\n",
    "left_arm = cv2.warpAffine(left_arm, M_translation_arm_left, dim_final) # Deslocando a imagem para a posição correta\n",
    "left_arm = cv2.bitwise_not(left_arm) # Invertendo as cores da imagem"
   ]
  },
  {
   "cell_type": "code",
   "execution_count": 17,
   "metadata": {},
   "outputs": [],
   "source": [
    "# Braço direito - 75% do tamanho do tronco\n",
    "right_arm = cv2.bitwise_not(line_img) # Invertendo as cores da imagem \n",
    "right_arm = cv2.warpAffine(right_arm, scale_arm, dim_final) # Redimensionando a imagem para 300x300\n",
    "\n",
    "M_translation_arm_right = np.float32([[1, 0, 145], [0, 1, 65]]) # Posicinando o braço direito abaixo da cabeça, X=145, Y=65\n",
    "right_arm = cv2.warpAffine(right_arm, M_translation_arm_right, dim_final) # Deslocando a imagem para a posição correta\n",
    "right_arm = cv2.bitwise_not(right_arm) # Invertendo as cores da imagem"
   ]
  },
  {
   "cell_type": "code",
   "execution_count": 19,
   "metadata": {},
   "outputs": [],
   "source": [
    "# Perna esquerda - Dobro do tamanho dos braços\n",
    "left_leg = cv2.bitwise_not(line_img) # Invertendo as cores da imagem\n",
    "left_leg = cv2.warpAffine(left_leg, scale_leg, dim_final) # Redimensionando a imagem para 300x300\n",
    "M_rotation_leg_left = cv2.getRotationMatrix2D((width_line / 2, height_line / 2), 45, 1) # Rotacionando a linha em 45 graus\n",
    "left_leg = cv2.warpAffine(left_leg, M_rotation_leg_left, dim_final) # Rotacionando a linha\n",
    "M_translation_leg_left = np.float32([[1, 0, 22], [0, 1, 156]]) # Posicinando a perna esquerda abaixo do tronco, X=22, Y=156\n",
    "left_leg = cv2.warpAffine(left_leg, M_translation_leg_left, dim_final) # Deslocando a imagem para a posição correta\n",
    "left_leg = cv2.bitwise_not(left_leg)"
   ]
  },
  {
   "cell_type": "code",
   "execution_count": 21,
   "metadata": {},
   "outputs": [],
   "source": [
    "# Perna direita - Dobro do tamanho dos braços\n",
    "right_leg = cv2.bitwise_not(line_img) # Invertendo as cores da imagem\n",
    "right_leg = cv2.warpAffine(right_leg, scale_leg, dim_final) # Redimensionando a imagem para 300x300\n",
    "M_rotation_leg_right = cv2.getRotationMatrix2D((width_line / 2, height_line / 2), -45, 1) # Rotacionando a linha em -45 graus\n",
    "right_leg = cv2.warpAffine(right_leg, M_rotation_leg_right, dim_final) # Rotacionando a linha\n",
    "M_translation_leg_right = np.float32([[1, 0, 142], [0, 1, 122]]) # Posicinando a perna direita abaixo do tronco, X=142, Y=122\n",
    "right_leg = cv2.warpAffine(right_leg, M_translation_leg_right, dim_final) # Deslocando a imagem para a posição correta\n",
    "right_leg = cv2.bitwise_not(right_leg)"
   ]
  },
  {
   "cell_type": "code",
   "execution_count": 23,
   "metadata": {},
   "outputs": [],
   "source": [
    "img = cv2.bitwise_and(head, body) # Cabeça e tronco\n",
    "img = cv2.bitwise_and(img, left_arm) # Cabeça, tronco e braço esquerdo\n",
    "img = cv2.bitwise_and(img, right_arm) # Cabeça, tronco, braço esquerdo e braço direito\n",
    "img = cv2.bitwise_and(img, left_leg) # Cabeça, tronco, braço esquerdo, braço direito e perna esquerda\n",
    "img = cv2.bitwise_and(img, right_leg) # Cabeça, tronco, braço esquerdo, braço direito, perna esquerda e perna direita\n",
    "\n",
    "cv2.imwrite('stickman.jpg', img)\n",
    "\n",
    "cv2.imshow('Head and Body', img)\n",
    "cv2.waitKey(0)\n",
    "cv2.destroyAllWindows()"
   ]
  }
 ],
 "metadata": {
  "kernelspec": {
   "display_name": "venv",
   "language": "python",
   "name": "python3"
  },
  "language_info": {
   "codemirror_mode": {
    "name": "ipython",
    "version": 3
   },
   "file_extension": ".py",
   "mimetype": "text/x-python",
   "name": "python",
   "nbconvert_exporter": "python",
   "pygments_lexer": "ipython3",
   "version": "3.10.12"
  }
 },
 "nbformat": 4,
 "nbformat_minor": 2
}
